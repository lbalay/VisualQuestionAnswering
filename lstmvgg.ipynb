{
  "nbformat": 4,
  "nbformat_minor": 0,
  "metadata": {
    "colab": {
      "provenance": [],
      "gpuType": "T4"
    },
    "kernelspec": {
      "name": "python3",
      "display_name": "Python 3"
    },
    "language_info": {
      "name": "python"
    },
    "accelerator": "GPU"
  },
  "cells": [
    {
      "cell_type": "code",
      "source": [
        "# !7z x \"/content/easyvqa.zip\""
      ],
      "metadata": {
        "id": "lVSQtuKq9mOu"
      },
      "execution_count": 1,
      "outputs": []
    },
    {
      "cell_type": "code",
      "source": [
        "import math\n",
        "import pandas as pd\n",
        "import os\n",
        "from os import path\n",
        "from tqdm import tqdm\n",
        "import cv2\n",
        "import numpy as np\n",
        "%matplotlib inline\n",
        "import matplotlib.pyplot as plt\n",
        "from tqdm import tqdm\n",
        "import pickle\n",
        "\n",
        "from sklearn import preprocessing\n",
        "import tensorflow as tf\n",
        "from keras.layers import Input,Dense,LSTM,Flatten,Dropout,concatenate\n",
        "from keras.layers import Embedding\n",
        "from tensorflow.keras.preprocessing import sequence\n",
        "from tensorflow.keras.models import Model\n",
        "from tensorflow.keras.utils import to_categorical\n",
        "from sklearn.metrics import accuracy_score\n",
        "from sklearn.model_selection import train_test_split\n",
        "from sklearn.utils import shuffle\n",
        "from tensorflow.keras.preprocessing.text import Tokenizer\n",
        "from tensorflow.keras.preprocessing.sequence import pad_sequences\n",
        "\n",
        "from tensorflow import keras\n",
        "from tensorflow.keras.preprocessing import image, text, sequence\n",
        "from tensorflow.keras.applications.vgg16 import VGG16\n",
        "from tensorflow.keras.preprocessing import image\n",
        "from tensorflow.keras.applications.vgg16 import preprocess_input\n",
        "from tensorflow.keras.callbacks import ModelCheckpoint\n",
        "import warnings\n",
        "warnings.filterwarnings(\"ignore\")\n"
      ],
      "metadata": {
        "id": "aWrkFxk-rzUf"
      },
      "execution_count": 2,
      "outputs": []
    },
    {
      "cell_type": "code",
      "source": [
        "import pandas as pd\n",
        "df = pd.read_csv(\"/content/easyVqa.csv\")"
      ],
      "metadata": {
        "id": "LfSKBq6jr9CA"
      },
      "execution_count": 3,
      "outputs": []
    },
    {
      "cell_type": "code",
      "source": [
        "df.head()"
      ],
      "metadata": {
        "colab": {
          "base_uri": "https://localhost:8080/",
          "height": 206
        },
        "id": "zuaecJ5wsmmk",
        "outputId": "f222492d-01ef-4704-bf28-a4731a7b4adf"
      },
      "execution_count": 4,
      "outputs": [
        {
          "output_type": "execute_result",
          "data": {
            "text/plain": [
              "   Unnamed: 0                             question     answer image_path  \\\n",
              "0           0              what is the blue shape?  rectangle      0.png   \n",
              "1           1             what color is the shape?       blue      0.png   \n",
              "2           2  does the image contain a rectangle?        yes      0.png   \n",
              "3           3    is there a triangle in the image?         no      0.png   \n",
              "4           4              is there a black shape?         no      0.png   \n",
              "\n",
              "   label  \n",
              "0      7  \n",
              "1     11  \n",
              "2      4  \n",
              "3     12  \n",
              "4     12  "
            ],
            "text/html": [
              "\n",
              "  <div id=\"df-0e150559-2629-4d20-b7c7-237b840f7d95\" class=\"colab-df-container\">\n",
              "    <div>\n",
              "<style scoped>\n",
              "    .dataframe tbody tr th:only-of-type {\n",
              "        vertical-align: middle;\n",
              "    }\n",
              "\n",
              "    .dataframe tbody tr th {\n",
              "        vertical-align: top;\n",
              "    }\n",
              "\n",
              "    .dataframe thead th {\n",
              "        text-align: right;\n",
              "    }\n",
              "</style>\n",
              "<table border=\"1\" class=\"dataframe\">\n",
              "  <thead>\n",
              "    <tr style=\"text-align: right;\">\n",
              "      <th></th>\n",
              "      <th>Unnamed: 0</th>\n",
              "      <th>question</th>\n",
              "      <th>answer</th>\n",
              "      <th>image_path</th>\n",
              "      <th>label</th>\n",
              "    </tr>\n",
              "  </thead>\n",
              "  <tbody>\n",
              "    <tr>\n",
              "      <th>0</th>\n",
              "      <td>0</td>\n",
              "      <td>what is the blue shape?</td>\n",
              "      <td>rectangle</td>\n",
              "      <td>0.png</td>\n",
              "      <td>7</td>\n",
              "    </tr>\n",
              "    <tr>\n",
              "      <th>1</th>\n",
              "      <td>1</td>\n",
              "      <td>what color is the shape?</td>\n",
              "      <td>blue</td>\n",
              "      <td>0.png</td>\n",
              "      <td>11</td>\n",
              "    </tr>\n",
              "    <tr>\n",
              "      <th>2</th>\n",
              "      <td>2</td>\n",
              "      <td>does the image contain a rectangle?</td>\n",
              "      <td>yes</td>\n",
              "      <td>0.png</td>\n",
              "      <td>4</td>\n",
              "    </tr>\n",
              "    <tr>\n",
              "      <th>3</th>\n",
              "      <td>3</td>\n",
              "      <td>is there a triangle in the image?</td>\n",
              "      <td>no</td>\n",
              "      <td>0.png</td>\n",
              "      <td>12</td>\n",
              "    </tr>\n",
              "    <tr>\n",
              "      <th>4</th>\n",
              "      <td>4</td>\n",
              "      <td>is there a black shape?</td>\n",
              "      <td>no</td>\n",
              "      <td>0.png</td>\n",
              "      <td>12</td>\n",
              "    </tr>\n",
              "  </tbody>\n",
              "</table>\n",
              "</div>\n",
              "    <div class=\"colab-df-buttons\">\n",
              "\n",
              "  <div class=\"colab-df-container\">\n",
              "    <button class=\"colab-df-convert\" onclick=\"convertToInteractive('df-0e150559-2629-4d20-b7c7-237b840f7d95')\"\n",
              "            title=\"Convert this dataframe to an interactive table.\"\n",
              "            style=\"display:none;\">\n",
              "\n",
              "  <svg xmlns=\"http://www.w3.org/2000/svg\" height=\"24px\" viewBox=\"0 -960 960 960\">\n",
              "    <path d=\"M120-120v-720h720v720H120Zm60-500h600v-160H180v160Zm220 220h160v-160H400v160Zm0 220h160v-160H400v160ZM180-400h160v-160H180v160Zm440 0h160v-160H620v160ZM180-180h160v-160H180v160Zm440 0h160v-160H620v160Z\"/>\n",
              "  </svg>\n",
              "    </button>\n",
              "\n",
              "  <style>\n",
              "    .colab-df-container {\n",
              "      display:flex;\n",
              "      gap: 12px;\n",
              "    }\n",
              "\n",
              "    .colab-df-convert {\n",
              "      background-color: #E8F0FE;\n",
              "      border: none;\n",
              "      border-radius: 50%;\n",
              "      cursor: pointer;\n",
              "      display: none;\n",
              "      fill: #1967D2;\n",
              "      height: 32px;\n",
              "      padding: 0 0 0 0;\n",
              "      width: 32px;\n",
              "    }\n",
              "\n",
              "    .colab-df-convert:hover {\n",
              "      background-color: #E2EBFA;\n",
              "      box-shadow: 0px 1px 2px rgba(60, 64, 67, 0.3), 0px 1px 3px 1px rgba(60, 64, 67, 0.15);\n",
              "      fill: #174EA6;\n",
              "    }\n",
              "\n",
              "    .colab-df-buttons div {\n",
              "      margin-bottom: 4px;\n",
              "    }\n",
              "\n",
              "    [theme=dark] .colab-df-convert {\n",
              "      background-color: #3B4455;\n",
              "      fill: #D2E3FC;\n",
              "    }\n",
              "\n",
              "    [theme=dark] .colab-df-convert:hover {\n",
              "      background-color: #434B5C;\n",
              "      box-shadow: 0px 1px 3px 1px rgba(0, 0, 0, 0.15);\n",
              "      filter: drop-shadow(0px 1px 2px rgba(0, 0, 0, 0.3));\n",
              "      fill: #FFFFFF;\n",
              "    }\n",
              "  </style>\n",
              "\n",
              "    <script>\n",
              "      const buttonEl =\n",
              "        document.querySelector('#df-0e150559-2629-4d20-b7c7-237b840f7d95 button.colab-df-convert');\n",
              "      buttonEl.style.display =\n",
              "        google.colab.kernel.accessAllowed ? 'block' : 'none';\n",
              "\n",
              "      async function convertToInteractive(key) {\n",
              "        const element = document.querySelector('#df-0e150559-2629-4d20-b7c7-237b840f7d95');\n",
              "        const dataTable =\n",
              "          await google.colab.kernel.invokeFunction('convertToInteractive',\n",
              "                                                    [key], {});\n",
              "        if (!dataTable) return;\n",
              "\n",
              "        const docLinkHtml = 'Like what you see? Visit the ' +\n",
              "          '<a target=\"_blank\" href=https://colab.research.google.com/notebooks/data_table.ipynb>data table notebook</a>'\n",
              "          + ' to learn more about interactive tables.';\n",
              "        element.innerHTML = '';\n",
              "        dataTable['output_type'] = 'display_data';\n",
              "        await google.colab.output.renderOutput(dataTable, element);\n",
              "        const docLink = document.createElement('div');\n",
              "        docLink.innerHTML = docLinkHtml;\n",
              "        element.appendChild(docLink);\n",
              "      }\n",
              "    </script>\n",
              "  </div>\n",
              "\n",
              "\n",
              "<div id=\"df-c9dc8452-33d7-48b5-8e8e-351252e3e3b1\">\n",
              "  <button class=\"colab-df-quickchart\" onclick=\"quickchart('df-c9dc8452-33d7-48b5-8e8e-351252e3e3b1')\"\n",
              "            title=\"Suggest charts\"\n",
              "            style=\"display:none;\">\n",
              "\n",
              "<svg xmlns=\"http://www.w3.org/2000/svg\" height=\"24px\"viewBox=\"0 0 24 24\"\n",
              "     width=\"24px\">\n",
              "    <g>\n",
              "        <path d=\"M19 3H5c-1.1 0-2 .9-2 2v14c0 1.1.9 2 2 2h14c1.1 0 2-.9 2-2V5c0-1.1-.9-2-2-2zM9 17H7v-7h2v7zm4 0h-2V7h2v10zm4 0h-2v-4h2v4z\"/>\n",
              "    </g>\n",
              "</svg>\n",
              "  </button>\n",
              "\n",
              "<style>\n",
              "  .colab-df-quickchart {\n",
              "      --bg-color: #E8F0FE;\n",
              "      --fill-color: #1967D2;\n",
              "      --hover-bg-color: #E2EBFA;\n",
              "      --hover-fill-color: #174EA6;\n",
              "      --disabled-fill-color: #AAA;\n",
              "      --disabled-bg-color: #DDD;\n",
              "  }\n",
              "\n",
              "  [theme=dark] .colab-df-quickchart {\n",
              "      --bg-color: #3B4455;\n",
              "      --fill-color: #D2E3FC;\n",
              "      --hover-bg-color: #434B5C;\n",
              "      --hover-fill-color: #FFFFFF;\n",
              "      --disabled-bg-color: #3B4455;\n",
              "      --disabled-fill-color: #666;\n",
              "  }\n",
              "\n",
              "  .colab-df-quickchart {\n",
              "    background-color: var(--bg-color);\n",
              "    border: none;\n",
              "    border-radius: 50%;\n",
              "    cursor: pointer;\n",
              "    display: none;\n",
              "    fill: var(--fill-color);\n",
              "    height: 32px;\n",
              "    padding: 0;\n",
              "    width: 32px;\n",
              "  }\n",
              "\n",
              "  .colab-df-quickchart:hover {\n",
              "    background-color: var(--hover-bg-color);\n",
              "    box-shadow: 0 1px 2px rgba(60, 64, 67, 0.3), 0 1px 3px 1px rgba(60, 64, 67, 0.15);\n",
              "    fill: var(--button-hover-fill-color);\n",
              "  }\n",
              "\n",
              "  .colab-df-quickchart-complete:disabled,\n",
              "  .colab-df-quickchart-complete:disabled:hover {\n",
              "    background-color: var(--disabled-bg-color);\n",
              "    fill: var(--disabled-fill-color);\n",
              "    box-shadow: none;\n",
              "  }\n",
              "\n",
              "  .colab-df-spinner {\n",
              "    border: 2px solid var(--fill-color);\n",
              "    border-color: transparent;\n",
              "    border-bottom-color: var(--fill-color);\n",
              "    animation:\n",
              "      spin 1s steps(1) infinite;\n",
              "  }\n",
              "\n",
              "  @keyframes spin {\n",
              "    0% {\n",
              "      border-color: transparent;\n",
              "      border-bottom-color: var(--fill-color);\n",
              "      border-left-color: var(--fill-color);\n",
              "    }\n",
              "    20% {\n",
              "      border-color: transparent;\n",
              "      border-left-color: var(--fill-color);\n",
              "      border-top-color: var(--fill-color);\n",
              "    }\n",
              "    30% {\n",
              "      border-color: transparent;\n",
              "      border-left-color: var(--fill-color);\n",
              "      border-top-color: var(--fill-color);\n",
              "      border-right-color: var(--fill-color);\n",
              "    }\n",
              "    40% {\n",
              "      border-color: transparent;\n",
              "      border-right-color: var(--fill-color);\n",
              "      border-top-color: var(--fill-color);\n",
              "    }\n",
              "    60% {\n",
              "      border-color: transparent;\n",
              "      border-right-color: var(--fill-color);\n",
              "    }\n",
              "    80% {\n",
              "      border-color: transparent;\n",
              "      border-right-color: var(--fill-color);\n",
              "      border-bottom-color: var(--fill-color);\n",
              "    }\n",
              "    90% {\n",
              "      border-color: transparent;\n",
              "      border-bottom-color: var(--fill-color);\n",
              "    }\n",
              "  }\n",
              "</style>\n",
              "\n",
              "  <script>\n",
              "    async function quickchart(key) {\n",
              "      const quickchartButtonEl =\n",
              "        document.querySelector('#' + key + ' button');\n",
              "      quickchartButtonEl.disabled = true;  // To prevent multiple clicks.\n",
              "      quickchartButtonEl.classList.add('colab-df-spinner');\n",
              "      try {\n",
              "        const charts = await google.colab.kernel.invokeFunction(\n",
              "            'suggestCharts', [key], {});\n",
              "      } catch (error) {\n",
              "        console.error('Error during call to suggestCharts:', error);\n",
              "      }\n",
              "      quickchartButtonEl.classList.remove('colab-df-spinner');\n",
              "      quickchartButtonEl.classList.add('colab-df-quickchart-complete');\n",
              "    }\n",
              "    (() => {\n",
              "      let quickchartButtonEl =\n",
              "        document.querySelector('#df-c9dc8452-33d7-48b5-8e8e-351252e3e3b1 button');\n",
              "      quickchartButtonEl.style.display =\n",
              "        google.colab.kernel.accessAllowed ? 'block' : 'none';\n",
              "    })();\n",
              "  </script>\n",
              "</div>\n",
              "    </div>\n",
              "  </div>\n"
            ]
          },
          "metadata": {},
          "execution_count": 4
        }
      ]
    },
    {
      "cell_type": "code",
      "source": [
        "labelencoder = preprocessing.LabelEncoder()\n",
        "labelencoder.fit(df[\"answer\"])\n",
        "df['class_label'] = labelencoder.transform(list(df['answer']))\n",
        "total_classes = len(labelencoder.classes_)"
      ],
      "metadata": {
        "id": "zG79tKLUkt3d"
      },
      "execution_count": 5,
      "outputs": []
    },
    {
      "cell_type": "code",
      "source": [
        "X = df[['image_path','question', 'answer']]\n",
        "y = df['class_label']\n",
        "print('X.shape:',X.shape)\n",
        "print('y.shape:',y.shape)"
      ],
      "metadata": {
        "colab": {
          "base_uri": "https://localhost:8080/"
        },
        "id": "ADOgxD5Kkd1N",
        "outputId": "0e470712-043a-4b1e-84f0-a03727cc9274"
      },
      "execution_count": 6,
      "outputs": [
        {
          "output_type": "stream",
          "name": "stdout",
          "text": [
            "X.shape: (38575, 3)\n",
            "y.shape: (38575,)\n"
          ]
        }
      ]
    },
    {
      "cell_type": "code",
      "source": [
        "X_train, X_val, y_train, y_val = train_test_split(X, y, test_size=0.10,random_state=42)\n",
        "Y_train = to_categorical(y_train, total_classes)\n",
        "Y_val = to_categorical(y_val, total_classes)"
      ],
      "metadata": {
        "id": "ErMw2AaPkLWn"
      },
      "execution_count": 7,
      "outputs": []
    },
    {
      "cell_type": "code",
      "source": [
        "t = Tokenizer(filters='')\n",
        "t.fit_on_texts(list(X_train['question']))\n",
        "vocab_size = len(t.word_index) + 1\n",
        "train_sequences = t.texts_to_sequences(list(X_train['question']))\n",
        "train_padded_docs = pad_sequences(train_sequences, maxlen=22, padding='post')\n",
        "val_sequences = t.texts_to_sequences(list(X_val['question']))\n",
        "val_padded_docs = pad_sequences(val_sequences, maxlen=22, padding='post')"
      ],
      "metadata": {
        "id": "9KcUgwP8j797"
      },
      "execution_count": 8,
      "outputs": []
    },
    {
      "cell_type": "code",
      "source": [
        "import pickle\n",
        "f = open('/content/drive/MyDrive/ML_final/archive/dataset/glove_vectors', 'rb')\n",
        "glovevector = pickle.load(f)"
      ],
      "metadata": {
        "id": "JgHUqBZW_zIZ"
      },
      "execution_count": 9,
      "outputs": []
    },
    {
      "cell_type": "code",
      "source": [
        "embedding_matrix = np.zeros((vocab_size, 300))\n",
        "for word, i in t.word_index.items():\n",
        "\tembedding_vector = glovevector.get(word)\n",
        "\tif embedding_vector is not None:\n",
        "\t\tembedding_matrix[i] = embedding_vector\n",
        "\n",
        "print(embedding_matrix.shape)"
      ],
      "metadata": {
        "colab": {
          "base_uri": "https://localhost:8080/"
        },
        "id": "uFjv0zEKjw_T",
        "outputId": "a28dbeef-2654-4f35-ac73-9d99cc35f0f4"
      },
      "execution_count": 10,
      "outputs": [
        {
          "output_type": "stream",
          "name": "stdout",
          "text": [
            "(33, 300)\n"
          ]
        }
      ]
    },
    {
      "cell_type": "code",
      "source": [
        "class CustomDataGen(tf.keras.utils.Sequence):\n",
        "    def __init__(self, indpt_qstn, indpt_img, target,batch_size,shuffle=True):\n",
        "        self.indpt_qstn = indpt_qstn\n",
        "        self.indpt_img = indpt_img\n",
        "        self.target = target\n",
        "        self.batch_size = batch_size\n",
        "        self.shuffle = shuffle\n",
        "        self.indexes_list = np.arange(len(target))\n",
        "    def on_epoch_end(self):\n",
        "        if self.shuffle:\n",
        "            self.indexes_list = np.random.permutation(self.indexes_list)\n",
        "    def __get_input1(self, qstn_item):\n",
        "        qstns_set = (pad_sequences(t.texts_to_sequences([qstn_item]), maxlen=22, padding='post'))[0]\n",
        "        return qstns_set\n",
        "    def __get_input2(self, path):\n",
        "        raw_img = cv2.imread(path)\n",
        "        resized_img = cv2.resize(raw_img, (224, 224))\n",
        "        img = np.array(resized_img)/255.0\n",
        "        return img\n",
        "    def __get_output(self, label):\n",
        "        return tf.keras.utils.to_categorical(label, num_classes=total_classes)\n",
        "    def __getitem__(self, current_index):\n",
        "        indpt_qstn_item = self.indpt_qstn[current_index * self.batch_size:(current_index + 1) * self.batch_size]\n",
        "        indpt_img_item = self.indpt_img[current_index * self.batch_size:(current_index + 1) * self.batch_size]\n",
        "        target_items = self.target[current_index * self.batch_size:(current_index + 1) * self.batch_size]\n",
        "        Trained_qstn = np.asarray([self.__get_input1(qstn_item) for qstn_item in indpt_qstn_item])\n",
        "        Trained_img = np.asarray([self.__get_input2(colab_path+'/'+path) for path in indpt_img_item])\n",
        "        target_val_set = np.asarray([self.__get_output(c) for c in target_items])\n",
        "        return tuple([Trained_qstn, Trained_img]), target_val_set\n",
        "    def __len__(self):\n",
        "        return len(self.indexes_list) // self.batch_size\n",
        "\n",
        "colab_path = \"/content/data/train/images\"\n",
        "batch_size = 64\n",
        "traingen = CustomDataGen(list(X_train['question']),list(X_train['image_path']),list(y_train),batch_size=batch_size)\n",
        "valgen = CustomDataGen(list(X_val['question']),list(X_val['image_path']),list(y_val),batch_size=batch_size)"
      ],
      "metadata": {
        "id": "aEmHck7LZxpo"
      },
      "execution_count": 17,
      "outputs": []
    },
    {
      "cell_type": "code",
      "source": [
        "pre_trained_model = tf.keras.applications.VGG19(input_shape=(224, 224, 3), include_top=True, weights=\"imagenet\", pooling='avg')\n",
        "\n",
        "for layer in pre_trained_model.layers:\n",
        "    layer.trainable = False\n",
        "\n",
        "regularizer = tf.keras.regularizers.l2(0.01)\n",
        "\n",
        "for layer in pre_trained_model.layers:\n",
        "    for attr in ['kernel_regularizer']:\n",
        "        if hasattr(layer, attr):\n",
        "          setattr(layer, attr, regularizer)\n",
        "\n",
        "vgg_fully_2 = (pre_trained_model.get_layer('fc2')).output\n",
        "\n",
        "dense_out = Dense(units=1024,activation='relu',kernel_initializer='he_normal')(vgg_fully_2)\n",
        "\n",
        "dense_out = Dropout(0.2)(dense_out)\n",
        "\n",
        "input_2 = Input(shape=(22,))\n",
        "\n",
        "embedding = Embedding(vocab_size, 300, weights=[embedding_matrix], input_length=22, trainable=False)(input_2)\n",
        "\n",
        "lstm1 = LSTM(64, return_sequences=True)(embedding)\n",
        "\n",
        "dropout1 = Dropout(0.5)(lstm1)\n",
        "\n",
        "lstm2 = LSTM(64)(dropout1)\n",
        "\n",
        "dropout2 = Dropout(0.5)(lstm2)\n",
        "\n",
        "que = Dense(units=1024,activation='relu',kernel_initializer='he_normal')(dropout2)\n",
        "\n",
        "pointwise_mul = tf.math.multiply(que, dense_out)\n",
        "\n",
        "output = Dense(units=total_classes,activation='softmax',kernel_initializer=\"glorot_uniform\")(pointwise_mul)\n",
        "\n",
        "vgg19_lstm = Model(inputs=[input_2,pre_trained_model.input],outputs=output)\n",
        "# compile\n",
        "\n",
        "optimizer = tf.keras.optimizers.Adam(learning_rate=0.0001)\n",
        "\n",
        "vgg19_lstm.compile(optimizer=optimizer,loss='categorical_crossentropy',metrics=['accuracy'])\n",
        "\n",
        "vgg19_lstm.summary()"
      ],
      "metadata": {
        "colab": {
          "base_uri": "https://localhost:8080/"
        },
        "id": "ndaJDkG2jn9q",
        "outputId": "2935e60b-fb98-4efd-cc0e-ce1da3fa3a34"
      },
      "execution_count": 13,
      "outputs": [
        {
          "output_type": "stream",
          "name": "stdout",
          "text": [
            "Model: \"model\"\n",
            "__________________________________________________________________________________________________\n",
            " Layer (type)                Output Shape                 Param #   Connected to                  \n",
            "==================================================================================================\n",
            " input_1 (InputLayer)        [(None, 224, 224, 3)]        0         []                            \n",
            "                                                                                                  \n",
            " block1_conv1 (Conv2D)       (None, 224, 224, 64)         1792      ['input_1[0][0]']             \n",
            "                                                                                                  \n",
            " block1_conv2 (Conv2D)       (None, 224, 224, 64)         36928     ['block1_conv1[0][0]']        \n",
            "                                                                                                  \n",
            " block1_pool (MaxPooling2D)  (None, 112, 112, 64)         0         ['block1_conv2[0][0]']        \n",
            "                                                                                                  \n",
            " block2_conv1 (Conv2D)       (None, 112, 112, 128)        73856     ['block1_pool[0][0]']         \n",
            "                                                                                                  \n",
            " block2_conv2 (Conv2D)       (None, 112, 112, 128)        147584    ['block2_conv1[0][0]']        \n",
            "                                                                                                  \n",
            " block2_pool (MaxPooling2D)  (None, 56, 56, 128)          0         ['block2_conv2[0][0]']        \n",
            "                                                                                                  \n",
            " block3_conv1 (Conv2D)       (None, 56, 56, 256)          295168    ['block2_pool[0][0]']         \n",
            "                                                                                                  \n",
            " block3_conv2 (Conv2D)       (None, 56, 56, 256)          590080    ['block3_conv1[0][0]']        \n",
            "                                                                                                  \n",
            " block3_conv3 (Conv2D)       (None, 56, 56, 256)          590080    ['block3_conv2[0][0]']        \n",
            "                                                                                                  \n",
            " block3_conv4 (Conv2D)       (None, 56, 56, 256)          590080    ['block3_conv3[0][0]']        \n",
            "                                                                                                  \n",
            " block3_pool (MaxPooling2D)  (None, 28, 28, 256)          0         ['block3_conv4[0][0]']        \n",
            "                                                                                                  \n",
            " block4_conv1 (Conv2D)       (None, 28, 28, 512)          1180160   ['block3_pool[0][0]']         \n",
            "                                                                                                  \n",
            " block4_conv2 (Conv2D)       (None, 28, 28, 512)          2359808   ['block4_conv1[0][0]']        \n",
            "                                                                                                  \n",
            " block4_conv3 (Conv2D)       (None, 28, 28, 512)          2359808   ['block4_conv2[0][0]']        \n",
            "                                                                                                  \n",
            " block4_conv4 (Conv2D)       (None, 28, 28, 512)          2359808   ['block4_conv3[0][0]']        \n",
            "                                                                                                  \n",
            " block4_pool (MaxPooling2D)  (None, 14, 14, 512)          0         ['block4_conv4[0][0]']        \n",
            "                                                                                                  \n",
            " block5_conv1 (Conv2D)       (None, 14, 14, 512)          2359808   ['block4_pool[0][0]']         \n",
            "                                                                                                  \n",
            " block5_conv2 (Conv2D)       (None, 14, 14, 512)          2359808   ['block5_conv1[0][0]']        \n",
            "                                                                                                  \n",
            " block5_conv3 (Conv2D)       (None, 14, 14, 512)          2359808   ['block5_conv2[0][0]']        \n",
            "                                                                                                  \n",
            " input_2 (InputLayer)        [(None, 22)]                 0         []                            \n",
            "                                                                                                  \n",
            " block5_conv4 (Conv2D)       (None, 14, 14, 512)          2359808   ['block5_conv3[0][0]']        \n",
            "                                                                                                  \n",
            " embedding (Embedding)       (None, 22, 300)              9900      ['input_2[0][0]']             \n",
            "                                                                                                  \n",
            " block5_pool (MaxPooling2D)  (None, 7, 7, 512)            0         ['block5_conv4[0][0]']        \n",
            "                                                                                                  \n",
            " lstm (LSTM)                 (None, 22, 64)               93440     ['embedding[0][0]']           \n",
            "                                                                                                  \n",
            " flatten (Flatten)           (None, 25088)                0         ['block5_pool[0][0]']         \n",
            "                                                                                                  \n",
            " dropout_1 (Dropout)         (None, 22, 64)               0         ['lstm[0][0]']                \n",
            "                                                                                                  \n",
            " fc1 (Dense)                 (None, 4096)                 1027645   ['flatten[0][0]']             \n",
            "                                                          44                                      \n",
            "                                                                                                  \n",
            " lstm_1 (LSTM)               (None, 64)                   33024     ['dropout_1[0][0]']           \n",
            "                                                                                                  \n",
            " fc2 (Dense)                 (None, 4096)                 1678131   ['fc1[0][0]']                 \n",
            "                                                          2                                       \n",
            "                                                                                                  \n",
            " dropout_2 (Dropout)         (None, 64)                   0         ['lstm_1[0][0]']              \n",
            "                                                                                                  \n",
            " dense (Dense)               (None, 1024)                 4195328   ['fc2[0][0]']                 \n",
            "                                                                                                  \n",
            " dense_1 (Dense)             (None, 1024)                 66560     ['dropout_2[0][0]']           \n",
            "                                                                                                  \n",
            " dropout (Dropout)           (None, 1024)                 0         ['dense[0][0]']               \n",
            "                                                                                                  \n",
            " tf.math.multiply (TFOpLamb  (None, 1024)                 0         ['dense_1[0][0]',             \n",
            " da)                                                                 'dropout[0][0]']             \n",
            "                                                                                                  \n",
            " dense_2 (Dense)             (None, 13)                   13325     ['tf.math.multiply[0][0]']    \n",
            "                                                                                                  \n",
            "==================================================================================================\n",
            "Total params: 143981817 (549.25 MB)\n",
            "Trainable params: 4401677 (16.79 MB)\n",
            "Non-trainable params: 139580140 (532.46 MB)\n",
            "__________________________________________________________________________________________________\n"
          ]
        }
      ]
    },
    {
      "cell_type": "code",
      "source": [
        "checkpoint_filepath=\"./weights-{epoch:02d}-{val_accuracy:.4f}.hdf5\"\n",
        "model_checkpoint_callback = ModelCheckpoint(filepath=checkpoint_filepath, monitor='val_accuracy', verbose=0, save_best_only=True, mode='max')"
      ],
      "metadata": {
        "id": "RrLQEEIOAp3A"
      },
      "execution_count": 15,
      "outputs": []
    },
    {
      "cell_type": "code",
      "source": [
        "vgg19_lstm_summary = vgg19_lstm.fit(traingen,batch_size=64,epochs=4,verbose=1,validation_data=valgen,callbacks=[model_checkpoint_callback])"
      ],
      "metadata": {
        "colab": {
          "base_uri": "https://localhost:8080/"
        },
        "id": "VrUSY5t0Aztb",
        "outputId": "095442bc-3918-4974-b655-ec6b798175fd"
      },
      "execution_count": 18,
      "outputs": [
        {
          "output_type": "stream",
          "name": "stdout",
          "text": [
            "Epoch 1/4\n",
            "542/542 [==============================] - 192s 331ms/step - loss: 1.1026 - accuracy: 0.5425 - val_loss: 0.7531 - val_accuracy: 0.6888\n",
            "Epoch 2/4\n",
            "542/542 [==============================] - 182s 336ms/step - loss: 0.7392 - accuracy: 0.7045 - val_loss: 0.6288 - val_accuracy: 0.7526\n",
            "Epoch 3/4\n",
            "542/542 [==============================] - 185s 341ms/step - loss: 0.6443 - accuracy: 0.7477 - val_loss: 0.6056 - val_accuracy: 0.7589\n",
            "Epoch 4/4\n",
            "542/542 [==============================] - 183s 337ms/step - loss: 0.6256 - accuracy: 0.7531 - val_loss: 0.5971 - val_accuracy: 0.7820\n"
          ]
        }
      ]
    },
    {
      "cell_type": "code",
      "source": [
        "#predictions\n",
        "testgen = CustomDataGen(list(X_train['question'][:20]),list(X_train['image_path'][:20]),list(y_train)[:20],batch_size=20)"
      ],
      "metadata": {
        "id": "1Lp4xFN6FTmW"
      },
      "execution_count": 19,
      "outputs": []
    },
    {
      "cell_type": "code",
      "source": [
        "ans = vgg19_lstm.predict(testgen)"
      ],
      "metadata": {
        "colab": {
          "base_uri": "https://localhost:8080/"
        },
        "id": "YWF6WMRoH0sr",
        "outputId": "5545525e-d6f3-44ea-b4f8-f03261934618"
      },
      "execution_count": 21,
      "outputs": [
        {
          "output_type": "stream",
          "name": "stdout",
          "text": [
            "1/1 [==============================] - 4s 4s/step\n"
          ]
        }
      ]
    },
    {
      "cell_type": "code",
      "source": [
        "predicted_ans = []\n",
        "for i in ans:\n",
        "  a = labelencoder.inverse_transform([np.argmax(i)])\n",
        "  predicted_ans.append(a[0])\n"
      ],
      "metadata": {
        "id": "9l5cnRJ2Kk0X"
      },
      "execution_count": 22,
      "outputs": []
    },
    {
      "cell_type": "code",
      "source": [
        "test_image_path = list(X_train['image_path'][:20])\n",
        "test_question = list(X_train['question'][:20])\n",
        "test_answer = list(y_train[:20])\n"
      ],
      "metadata": {
        "id": "gOCdXH_ZM-Ak"
      },
      "execution_count": 23,
      "outputs": []
    },
    {
      "cell_type": "code",
      "source": [
        "\n",
        "# Plot test images, questions, actual answers and predicted answers\n",
        "fig = plt.figure(figsize=(24, 10))\n",
        "for a,i in enumerate(list(np.arange(10))):\n",
        "  fig.add_subplot(2, 5, a+1)\n",
        "  img = cv2.imread(colab_path+'/'+test_image_path[i])\n",
        "  img = cv2.cvtColor(img, cv2.COLOR_BGR2RGB)\n",
        "  plt.imshow(img); plt.axis('off')\n",
        "  plt.title(f'Que: {test_question[i]}  \\nPredicted Ans: {predicted_ans[i]}')\n"
      ],
      "metadata": {
        "colab": {
          "base_uri": "https://localhost:8080/",
          "height": 640
        },
        "id": "wxwUm6WAH4S8",
        "outputId": "dcbc6cae-9a28-49c4-cce7-85f9efff3edd"
      },
      "execution_count": 24,
      "outputs": [
        {
          "output_type": "display_data",
          "data": {
            "text/plain": [
              "<Figure size 2400x1000 with 10 Axes>"
            ],
            "image/png": "[encoded data removed]"
          },
          "metadata": {}
        }
      ]
    },
    {
      "cell_type": "code",
      "source": [
        "import matplotlib.pyplot as plt\n",
        "plt.plot(vgg19_lstm_summary.history['loss'])\n",
        "plt.plot(vgg19_lstm_summary.history['val_loss'])\n",
        "plt.title('Model loss')\n",
        "plt.xlabel('Epoch')\n",
        "plt.ylabel('Loss')\n",
        "plt.legend(['Train', 'Validation'], loc='upper left')\n",
        "plt.show()\n"
      ],
      "metadata": {
        "colab": {
          "base_uri": "https://localhost:8080/",
          "height": 472
        },
        "id": "YHRunomWMrus",
        "outputId": "5e33e261-cc42-47bd-9073-ba624f435faa"
      },
      "execution_count": 25,
      "outputs": [
        {
          "output_type": "display_data",
          "data": {
            "text/plain": [
              "<Figure size 640x480 with 1 Axes>"
            ],
            "image/png": "[encoded data removed]"
          },
          "metadata": {}
        }
      ]
    },
    {
      "cell_type": "code",
      "source": [
        "plt.plot(vgg19_lstm_summary.history['accuracy'])\n",
        "plt.plot(vgg19_lstm_summary.history['val_accuracy'])\n",
        "plt.title('Model accuracy')\n",
        "plt.xlabel('Epoch')\n",
        "plt.ylabel('Accuracy')\n",
        "plt.legend(['Train', 'Validation'], loc='upper left')\n",
        "plt.show()"
      ],
      "metadata": {
        "colab": {
          "base_uri": "https://localhost:8080/",
          "height": 472
        },
        "id": "gKNKUoXVOQVe",
        "outputId": "d7194f0c-b568-4109-b2e8-f4e50589f175"
      },
      "execution_count": 26,
      "outputs": [
        {
          "output_type": "display_data",
          "data": {
            "text/plain": [
              "<Figure size 640x480 with 1 Axes>"
            ],
            "image/png": "[encoded data removed]"
          },
          "metadata": {}
        }
      ]
    },
    {
      "cell_type": "code",
      "source": [],
      "metadata": {
        "id": "aEEUxvGLhlez"
      },
      "execution_count": null,
      "outputs": []
    }
  ]
}